{
 "cells": [
  {
   "cell_type": "code",
   "execution_count": 1,
   "metadata": {},
   "outputs": [],
   "source": [
    "import csv\n",
    "import pandas as pd\n",
    "import numpy as np\n",
    "import urllib.parse\n",
    "import urllib.request\n",
    "from bs4 import BeautifulSoup"
   ]
  },
  {
   "cell_type": "code",
   "execution_count": 2,
   "metadata": {},
   "outputs": [],
   "source": [
    "import warnings\n",
    "warnings.filterwarnings(\"ignore\")"
   ]
  },
  {
   "cell_type": "code",
   "execution_count": 3,
   "metadata": {},
   "outputs": [],
   "source": [
    "def split_str_list(x, sep):\n",
    "    \"\"\"Function to split comma seperated string into array type data\"\"\"\n",
    "    if type(x) == str and x != \"\" and x != \"\\\\N\":\n",
    "        return x.split(sep)\n",
    "    else:\n",
    "        return None"
   ]
  },
  {
   "cell_type": "code",
   "execution_count": 4,
   "metadata": {},
   "outputs": [],
   "source": [
    "m_cols = ['movie_id', 'title', 'release_date', 'video_release_date', 'imdb_url', 'unknown', 'Action',\n",
    "          'Adventure', 'Animation', \"Children's\", 'Comedy', 'Crime', 'Documentary', 'Drama', 'Fantasy',\n",
    "          'Film-Noir', 'Horror', 'Musical', 'Mystery', 'Romance', 'Sci-Fi', 'Thriller', 'War', 'Western']\n",
    "\n",
    "movies = pd.read_csv('ml-100k/u.item', sep='|', names=m_cols, encoding='latin-1')"
   ]
  },
  {
   "cell_type": "code",
   "execution_count": 5,
   "metadata": {},
   "outputs": [],
   "source": [
    "movies['release_date'] = movies['release_date'].apply(lambda x: str(x)[-4:])\n",
    "max_year = np.nanmax(movies['release_date'].astype(float))\n",
    "min_year = np.nanmin(movies['release_date'].astype(float))"
   ]
  },
  {
   "cell_type": "code",
   "execution_count": 6,
   "metadata": {},
   "outputs": [],
   "source": [
    "scraped_data = {\n",
    "    \"movie_id\": [],\n",
    "    \"movie_title\": [],\n",
    "    \"movie_url\": [],\n",
    "}"
   ]
  },
  {
   "cell_type": "code",
   "execution_count": 7,
   "metadata": {},
   "outputs": [],
   "source": [
    "for row in movies[['movie_id', 'title']].values:\n",
    "    movie_id = row[0]\n",
    "    movie_title = row[1]\n",
    "    scraped_data['movie_id'].append(movie_id)\n",
    "    scraped_data['movie_title'].append(movie_title)\n",
    "    domain = 'http://www.imdb.com'\n",
    "    search_url = domain + '/find?s=tt&q=' + urllib.parse.quote_plus(movie_title)\n",
    "    with urllib.request.urlopen(search_url) as response:\n",
    "        html = response.read()\n",
    "        soup = BeautifulSoup(html, 'html.parser')\n",
    "        # Get url of 1st search result\n",
    "        try:\n",
    "            title = soup.find('table', class_='findList').tr.a['href']\n",
    "            movie_url = domain + title\n",
    "            scraped_data['movie_url'].append(movie_url)\n",
    "            # Ignore cases where search returns no results\n",
    "        except AttributeError:\n",
    "            scraped_data['movie_url'].append(np.nan)"
   ]
  },
  {
   "cell_type": "code",
   "execution_count": 8,
   "metadata": {},
   "outputs": [],
   "source": [
    "scraped_df = pd.DataFrame(scraped_data)"
   ]
  },
  {
   "cell_type": "markdown",
   "metadata": {},
   "source": [
    "We try again without the stuff between parenthesis for the missing links"
   ]
  },
  {
   "cell_type": "code",
   "execution_count": 10,
   "metadata": {},
   "outputs": [],
   "source": [
    "movies['title_2'] = movies['title'].str.replace(r\"\\(.*\\)\",\"\")"
   ]
  },
  {
   "cell_type": "code",
   "execution_count": 11,
   "metadata": {},
   "outputs": [],
   "source": [
    "scraped_data_2 = {\n",
    "    \"movie_id\": [],\n",
    "    \"movie_title\": [],\n",
    "    \"movie_url_2\": [],\n",
    "}"
   ]
  },
  {
   "cell_type": "code",
   "execution_count": 12,
   "metadata": {},
   "outputs": [],
   "source": [
    "for row in movies[['movie_id', 'title_2']].values:\n",
    "    movie_id = row[0]\n",
    "    movie_title = row[1]\n",
    "    domain = 'http://www.imdb.com'\n",
    "    search_url = domain + '/find?s=tt&q=' + urllib.parse.quote_plus(movie_title)\n",
    "    scraped_data_2['movie_id'].append(row[0])\n",
    "    scraped_data_2['movie_title'].append(row[1])\n",
    "    with urllib.request.urlopen(search_url) as response:\n",
    "        html = response.read()\n",
    "        soup = BeautifulSoup(html, 'html.parser')\n",
    "        # Get url of 1st search result\n",
    "        try:\n",
    "            title = soup.find('table', class_='findList').tr.a['href']\n",
    "            movie_url = domain + title\n",
    "            scraped_data_2['movie_url_2'].append(movie_url)\n",
    "                # Ignore cases where search returns no results\n",
    "        except AttributeError:\n",
    "            scraped_data_2['movie_url_2'].append(np.nan)"
   ]
  },
  {
   "cell_type": "code",
   "execution_count": 13,
   "metadata": {},
   "outputs": [],
   "source": [
    "scraped_df_2 = pd.DataFrame(scraped_data_2)"
   ]
  },
  {
   "cell_type": "code",
   "execution_count": 17,
   "metadata": {},
   "outputs": [],
   "source": [
    "scraped_df['movie_url_2'] = scraped_df_2['movie_url_2']\n",
    "scraped_df['movie_url'] = scraped_df['movie_url'].replace(np.nan, scraped_df['movie_url_2'])"
   ]
  },
  {
   "cell_type": "code",
   "execution_count": 24,
   "metadata": {},
   "outputs": [],
   "source": [
    "scraped_df['id'] = scraped_df['movie_url'].apply(lambda x: split_str_list(x, '/')[-2])\n",
    "scraped_df['id_2'] = scraped_df_2['movie_url_2'].apply(lambda x: split_str_list(x, '/')[-2])"
   ]
  },
  {
   "cell_type": "code",
   "execution_count": 63,
   "metadata": {},
   "outputs": [],
   "source": [
    "#movies.drop('title_2', axis=1, inplace=True)\n",
    "movies = movies.merge(scraped_df[['movie_id', 'id', 'id_2']], on='movie_id', how='left')"
   ]
  },
  {
   "cell_type": "code",
   "execution_count": 77,
   "metadata": {},
   "outputs": [],
   "source": [
    "movies_imdb = pd.read_csv('ml-100k/title.basics.tsv.gz', sep='\\t', na_values= '\\\\N')\n",
    "movies_imdb = movies_imdb[['tconst', 'startYear', 'titleType']]"
   ]
  },
  {
   "cell_type": "code",
   "execution_count": 81,
   "metadata": {},
   "outputs": [],
   "source": [
    "movies = movies.merge(movies_imdb, left_on='id', right_on='tconst', how='left').drop('tconst', axis=1)\n",
    "movies = movies.merge(movies_imdb, left_on='id_2', right_on='tconst', how='left').drop('tconst', axis=1)"
   ]
  },
  {
   "cell_type": "markdown",
   "metadata": {},
   "source": [
    "out of the two ids, we keep the one that has a release date closer to the original one."
   ]
  },
  {
   "cell_type": "code",
   "execution_count": 83,
   "metadata": {},
   "outputs": [],
   "source": [
    "movies['best_id'] = np.where(np.abs(movies['release_date'].astype(float) - movies['startYear_x']) > \\\n",
    "                np.abs(movies['release_date'].astype(float) - movies['startYear_y']), movies['id_2'], movies['id'])\n",
    "\n",
    "movies['best_year'] = np.where(np.abs(movies['release_date'].astype(float) - movies['startYear_x']) > \\\n",
    "                np.abs(movies['release_date'].astype(float) - movies['startYear_y']), movies['startYear_y'],\\\n",
    "                               movies['startYear_x'])\n",
    "\n",
    "movies['title_type'] = np.where(np.abs(movies['release_date'].astype(float) - movies['startYear_x']) > \\\n",
    "                np.abs(movies['release_date'].astype(float) - movies['startYear_y']), movies['titleType_y'],\\\n",
    "                               movies['titleType_x'])"
   ]
  },
  {
   "cell_type": "code",
   "execution_count": 85,
   "metadata": {},
   "outputs": [],
   "source": [
    "movies.drop(['startYear_x', 'titleType_x', 'startYear_y', 'titleType_y'], axis=1, inplace=True)"
   ]
  },
  {
   "cell_type": "markdown",
   "metadata": {},
   "source": [
    "We replaced manually the movies that seemed that had a difference of more than one year with the original year of the imdb dataset and those whose titleType was not movie"
   ]
  },
  {
   "cell_type": "code",
   "execution_count": 88,
   "metadata": {},
   "outputs": [],
   "source": [
    "movies.set_value(22, 'best_id', 'tt0075314')\n",
    "movies.set_value(70, 'best_id', 'tt0110357')\n",
    "movies.set_value(113, 'best_id', np.nan)\n",
    "movies.set_value(115, 'best_id', 'tt0112701')\n",
    "movies.set_value(127, 'best_id', 'tt0104558')\n",
    "movies.set_value(168, 'best_id', 'tt0108598')\n",
    "movies.set_value(180, 'best_id', 'tt0086190')\n",
    "movies.set_value(188, 'best_id', 'tt0104361')\n",
    "movies.set_value(194, 'best_id', 'tt0088247')\n",
    "movies.set_value(212, 'best_id', 'tt0091867')\n",
    "\n",
    "movies.set_value(252, 'best_id', 'tt0114134')\n",
    "movies.set_value(279, 'best_id', 'tt0118055')\n",
    "movies.set_value(350, 'best_id', 'tt0118643')\n",
    "movies.set_value(358, 'best_id', 'tt0118647')\n",
    "movies.set_value(375, 'best_id', 'tt0110066')\n",
    "movies.set_value(398, 'best_id', 'tt0108333')\n",
    "movies.set_value(407, 'best_id', 'tt0112691')\n",
    "movies.set_value(421, 'best_id', 'tt0115491')\n",
    "movies.set_value(423, 'best_id', 'tt0115885')\n",
    "movies.set_value(428, 'best_id', 'tt0043456')\n",
    "\n",
    "movies.set_value(432, 'best_id', 'tt0097493')\n",
    "movies.set_value(436, 'best_id', 'tt0103678')\n",
    "movies.set_value(438, 'best_id', 'tt0106262')\n",
    "movies.set_value(440, 'best_id', 'tt0078767')\n",
    "movies.set_value(441, 'best_id', 'tt0099030')\n",
    "movies.set_value(442, 'best_id', 'tt0056869')\n",
    "movies.set_value(443, 'best_id', 'tt0051418')\n",
    "movies.set_value(444, 'best_id', 'tt0037549')\n",
    "movies.set_value(464, 'best_id', 'tt0110213')\n",
    "movies.set_value(509, 'best_id', 'tt0047478')\n",
    "\n",
    "movies.set_value(514, 'best_id', 'tt0082096')\n",
    "movies.set_value(538, 'best_id', 'tt0119715')\n",
    "movies.set_value(547, 'best_id', 'tt0110647')\n",
    "movies.set_value(562, 'best_id', 'tt0112040')\n",
    "movies.set_value(583, 'best_id', 'tt0108071')\n",
    "movies.set_value(591, 'best_id', 'tt0114736')\n",
    "movies.set_value(594, 'best_id', 'tt0116277')\n",
    "movies.set_value(598, 'best_id', 'tt0106544')\n",
    "movies.set_value(632, 'best_id', 'tt0029992')\n",
    "movies.set_value(642, 'best_id', 'tt0106185')\n",
    "\n",
    "movies.set_value(643, 'best_id', 'tt0096257')\n",
    "movies.set_value(656, 'best_id', 'tt0056218')\n",
    "movies.set_value(676, 'best_id', 'tt0116310')\n",
    "movies.set_value(693, 'best_id', 'tt11333812')\n",
    "movies.set_value(729, 'best_id', 'tt0110963')\n",
    "movies.set_value(731, 'best_id', 'tt0106673')\n",
    "movies.set_value(766, 'best_id', 'tt0112288')\n",
    "movies.set_value(776, 'best_id', 'tt0112643')\n",
    "movies.set_value(798, 'best_id', 'tt0112570')\n",
    "movies.set_value(809, 'best_id', 'tt0111143')\n",
    "\n",
    "movies.set_value(825, 'best_id', 'tt0117331')\n",
    "movies.set_value(837, 'best_id', 'tt0093229')\n",
    "movies.set_value(838, 'best_id', 'tt0094376')\n",
    "movies.set_value(849, 'best_id', 'tt0117320')\n",
    "movies.set_value(857, 'best_id', 'tt0115535')\n",
    "movies.set_value(859, 'best_id', 'tt0092632')\n",
    "movies.set_value(860, 'best_id', 'tt0091651')\n",
    "movies.set_value(862, 'best_id', 'tt0065777')\n",
    "movies.set_value(867, 'best_id', 'tt0175708')\n",
    "movies.set_value(877, 'best_id', 'tt0120317')\n",
    "\n",
    "movies.set_value(896, 'best_id', 'tt0128755')\n",
    "movies.set_value(942, 'best_id', 'tt0110265')\n",
    "movies.set_value(957, 'best_id', 'tt0110081')\n",
    "movies.set_value(960, 'best_id', 'tt0255451')\n",
    "movies.set_value(962, 'best_id', 'tt0108181');"
   ]
  },
  {
   "cell_type": "code",
   "execution_count": 89,
   "metadata": {},
   "outputs": [],
   "source": [
    "movies.set_value(968, 'best_id', 'tt0063819' ) \n",
    "movies.set_value(972, 'best_id', 'tt0113212' )\n",
    "movies.set_value(986, 'best_id', 'tt0163964' )\n",
    "movies.set_value(1002, 'best_id', 'tt0120317' )\n",
    "movies.set_value(1014, 'best_id', 'tt0120118' )\n",
    "movies.set_value(1029, 'best_id', 'tt0055662' )\n",
    "\n",
    "movies.set_value(1033, 'best_id', 'tt0117420' )\n",
    "movies.set_value(1042, 'best_id', 'tt0114268' )\n",
    "movies.set_value(1057, 'best_id', 'tt0111667' )\n",
    "movies.set_value(1101, 'best_id', 'tt0118001' )\n",
    "movies.set_value(1110, 'best_id', 'tt0109655' )\n",
    "\n",
    "movies.set_value(1120, 'best_id', 'tt0058450' )\n",
    "movies.set_value(1124, 'best_id', 'tt0055018' )\n",
    "movies.set_value(1127, 'best_id', 'tt0113283' )\n",
    "movies.set_value(1128, 'best_id', 'tt0109424' )\n",
    "movies.set_value(1171, 'best_id', 'tt0032143' )\n",
    "\n",
    "movies.set_value(1191, 'best_id', 'tt0106473' ) \n",
    "movies.set_value(1198, 'best_id', 'tt0109592' )\n",
    "movies.set_value(1200, 'best_id', 'tt0116992' )\n",
    "movies.set_value(1201, 'best_id', 'tt0109255' )\n",
    "movies.set_value(1204, 'best_id', 'tt0117582' )\n",
    "\n",
    "movies.set_value(1234, 'best_id', 'tt0109266' )\n",
    "movies.set_value(1235, 'best_id', 'tt0119845' )\n",
    "movies.set_value(1247, 'best_id', 'tt6130672' )\n",
    "movies.set_value(1251, 'best_id', 'tt7472500' )\n",
    "movies.set_value(1285, 'best_id', 'tt0358135' )\n",
    "\n",
    "movies.set_value(1295, 'best_id', 'tt0107212' )\n",
    "movies.set_value(1303, 'best_id', 'tt0117169' )\n",
    "movies.set_value(1311, 'best_id', 'tt6154608' )\n",
    "movies.set_value(1320, 'best_id', 'tt0114047' )\n",
    "movies.set_value(1323, 'best_id', 'tt0110374' )\n",
    "\n",
    "movies.set_value(1327, 'best_id', 'tt0110712' )\n",
    "movies.set_value(1328, 'best_id', 'tt0125877' );"
   ]
  },
  {
   "cell_type": "code",
   "execution_count": 90,
   "metadata": {},
   "outputs": [],
   "source": [
    "movies.set_value(1333, 'best_id','tt0111237') \n",
    "movies.set_value(1345, 'best_id','tt0104109')\n",
    "movies.set_value(1357, 'best_id','tt0645145')\n",
    "movies.set_value(1358, 'best_id','tt4275988')\n",
    "movies.set_value(1360, 'best_id','tt0117577')\n",
    "movies.set_value(1363, 'best_id','tt0115684')\n",
    "movies.set_value(1366, 'best_id','tt0111959')\n",
    "movies.set_value(1371, 'best_id','tt0109647')\n",
    "movies.set_value(1372, 'best_id','tt0067152')\n",
    "movies.set_value(1380, 'best_id','tt0116920')\n",
    "movies.set_value(1381, 'best_id','tt0058985')\n",
    "movies.set_value(1385, 'best_id','tt0105569')\n",
    "movies.set_value(1389, 'best_id','tt0113425')\n",
    "movies.set_value(1411, 'best_id','tt0113596')\n",
    "movies.set_value(1416, 'best_id','tt0105660')\n",
    "movies.set_value(1419, 'best_id','tt0568382')\n",
    "movies.set_value(1422, 'best_id','tt1520211')\n",
    "movies.set_value(1427, 'best_id','tt0120238')\n",
    "movies.set_value(1447, 'best_id','tt0107471')\n",
    "movies.set_value(1448, 'best_id','tt0048473')\n",
    "movies.set_value(1471, 'best_id','tt0108500')\n",
    "movies.set_value(1472, 'best_id','tt0031580')\n",
    "movies.set_value(1481, 'best_id','tt0113147')\n",
    "movies.set_value(1490, 'best_id','tt0114706')\n",
    "movies.set_value(1493, 'best_id','tt0110570')\n",
    "movies.set_value(1496, 'best_id','tt0116886')\n",
    "movies.set_value(1503, 'best_id','tt0109255')\n",
    "movies.set_value(1507, 'best_id','tt0112438')\n",
    "movies.set_value(1511, 'best_id','tt0052572')\n",
    "movies.set_value(1515, 'best_id','tt0893566')\n",
    "movies.set_value(1523, 'best_id','tt0110246')\n",
    "movies.set_value(1535, 'best_id','tt0109066')\n",
    "movies.set_value(1538, 'best_id','tt1595680');"
   ]
  },
  {
   "cell_type": "code",
   "execution_count": 91,
   "metadata": {},
   "outputs": [],
   "source": [
    "movies.set_value(1541, 'best_id', 'tt0017350')\n",
    "movies.set_value(1547, 'best_id', 'tt0112727')\n",
    "movies.set_value(1548, 'best_id', 'tt0112899')\n",
    "movies.set_value(1551, 'best_id', 'tt0113360')\n",
    "movies.set_value(1556, 'best_id', 'tt0111787')\n",
    "movies.set_value(1557, 'best_id', 'tt0048956')\n",
    "movies.set_value(1568, 'best_id', 'tt0094265')\n",
    "movies.set_value(1583, 'best_id', 'tt0039004')\n",
    "movies.set_value(1585, 'best_id', 'tt0104684')\n",
    "movies.set_value(1589, 'best_id', 'tt0112951')\n",
    "movies.set_value(1590, 'best_id', 'tt0112913')\n",
    "movies.set_value(1591, 'best_id', 'tt0189582')\n",
    "movies.set_value(1592, 'best_id', 'tt0101692')\n",
    "movies.set_value(1593, 'best_id', 'tt0120661')\n",
    "movies.set_value(1594, 'best_id', 'tt0111173')\n",
    "movies.set_value(1595, 'best_id', 'tt0113948')\n",
    "movies.set_value(1599, 'best_id', 'tt0109949')\n",
    "movies.set_value(1611, 'best_id', 'tt0116845')\n",
    "movies.set_value(1612, 'best_id', 'tt0114690')\n",
    "movies.set_value(1625, 'best_id', 'tt0110251')\n",
    "movies.set_value(1626, 'best_id', 'tt0114936')\n",
    "movies.set_value(1629, 'best_id', 'tt0111055')\n",
    "movies.set_value(1633, 'best_id', 'tt0109751')\n",
    "movies.set_value(1634, 'best_id', 'tt0092123')\n",
    "movies.set_value(1642, 'best_id', 'tt0112362')\n",
    "movies.set_value(1644, 'best_id', 'tt0118804')\n",
    "movies.set_value(1649, 'best_id', 'tt0118804')\n",
    "movies.set_value(1654, 'best_id', 'tt0109783')\n",
    "movies.set_value(1655, 'best_id', 'tt0119548')\n",
    "movies.set_value(1661, 'best_id', 'tt0114303')\n",
    "movies.set_value(1662, 'best_id', 'tt0114007')\n",
    "movies.set_value(1666, 'best_id', 'tt0113968')\n",
    "movies.set_value(1681, 'best_id', 'tt0102855');"
   ]
  },
  {
   "cell_type": "markdown",
   "metadata": {},
   "source": [
    "Now we can check if some movies have the same link"
   ]
  },
  {
   "cell_type": "markdown",
   "metadata": {},
   "source": [
    "We already know that some movies are duplicated in the 100k dataset so we remove them to check the real duplicates"
   ]
  },
  {
   "cell_type": "code",
   "execution_count": 39,
   "metadata": {},
   "outputs": [],
   "source": [
    "movies_temp = movies[~movies.drop('movie_id', axis=1).duplicated()]"
   ]
  },
  {
   "cell_type": "code",
   "execution_count": 40,
   "metadata": {},
   "outputs": [
    {
     "data": {
      "text/plain": [
       "tt0118163    2\n",
       "tt0116583    2\n",
       "tt0109255    2\n",
       "tt0114436    2\n",
       "Name: best_id, dtype: int64"
      ]
     },
     "execution_count": 40,
     "metadata": {},
     "output_type": "execute_result"
    }
   ],
   "source": [
    "imdb_id_count = movies_temp['best_id'].value_counts()\n",
    "imdb_id_count[imdb_id_count > 1]"
   ]
  },
  {
   "cell_type": "markdown",
   "metadata": {},
   "source": [
    "We handle them manually"
   ]
  },
  {
   "cell_type": "code",
   "execution_count": 41,
   "metadata": {},
   "outputs": [],
   "source": [
    "movies.set_value(1388, 'best_id', 'tt0117076')\n",
    "movies.set_value(1240, 'best_id', 'tt0118064')\n",
    "movies.set_value(1546, 'best_id', 'tt0114435');"
   ]
  }
 ],
 "metadata": {
  "kernelspec": {
   "display_name": "Python 3",
   "language": "python",
   "name": "python3"
  },
  "language_info": {
   "codemirror_mode": {
    "name": "ipython",
    "version": 3
   },
   "file_extension": ".py",
   "mimetype": "text/x-python",
   "name": "python",
   "nbconvert_exporter": "python",
   "pygments_lexer": "ipython3",
   "version": "3.6.9"
  }
 },
 "nbformat": 4,
 "nbformat_minor": 2
}
